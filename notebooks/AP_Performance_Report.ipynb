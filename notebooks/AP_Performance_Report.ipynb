{
 "cells": [
  {
   "cell_type": "markdown",
   "id": "0",
   "metadata": {},
   "source": [
    "# Alert Production Performance Report for {{params.instrument}} on {{ params.date }}"
   ]
  },
  {
   "cell_type": "code",
   "execution_count": 26,
   "id": "1",
   "metadata": {
    "execution": {
     "iopub.execute_input": "2024-10-24T17:48:30.472780Z",
     "iopub.status.busy": "2024-10-24T17:48:30.472299Z",
     "iopub.status.idle": "2024-10-24T17:48:30.475102Z",
     "shell.execute_reply": "2024-10-24T17:48:30.474720Z",
     "shell.execute_reply.started": "2024-10-24T17:48:30.472758Z"
    }
   },
   "outputs": [],
   "source": [
    "# Parameters.  Set defaults here.\n",
    "\n",
    "date = \"2024-09-04\"\n",
    "#date = \"2024-09-24\"\n",
    "\n",
    "instrument = \"LATISS\""
   ]
  },
  {
   "cell_type": "code",
   "execution_count": 27,
   "id": "2",
   "metadata": {
    "execution": {
     "iopub.execute_input": "2024-10-24T17:48:30.475796Z",
     "iopub.status.busy": "2024-10-24T17:48:30.475669Z",
     "iopub.status.idle": "2024-10-24T17:48:30.479730Z",
     "shell.execute_reply": "2024-10-24T17:48:30.479271Z",
     "shell.execute_reply.started": "2024-10-24T17:48:30.475784Z"
    }
   },
   "outputs": [],
   "source": [
    "day_obs = int(date.replace(\"-\", \"\"))"
   ]
  },
  {
   "cell_type": "code",
   "execution_count": 28,
   "id": "3",
   "metadata": {
    "execution": {
     "iopub.execute_input": "2024-10-24T17:48:30.480396Z",
     "iopub.status.busy": "2024-10-24T17:48:30.480254Z",
     "iopub.status.idle": "2024-10-24T17:48:30.484591Z",
     "shell.execute_reply": "2024-10-24T17:48:30.484230Z",
     "shell.execute_reply.started": "2024-10-24T17:48:30.480384Z"
    }
   },
   "outputs": [],
   "source": [
    "match instrument:\n",
    "    case \"LATISS\":\n",
    "        sal_index = 2\n",
    "        n_detector = 1\n",
    "        survey = \"BLOCK-306\" \n",
    "    case \"LSSTComCamSim\":\n",
    "        sal_index = 3\n",
    "        n_detector = 9\n",
    "        survey = \"BLOCK-297\" \n",
    "    case _:\n",
    "        logger.error(f\"Unknown instrument {instrument}\")"
   ]
  },
  {
   "cell_type": "markdown",
   "id": "5",
   "metadata": {},
   "source": [
    "1.3.15 Level 1 Performance Report Definition\n",
    "\n",
    "ID: DMS-REQ-0099 (Priority: 1b)\n",
    "\n",
    "Specification: The DMS shall produce a Level 1 Performance Report that provides indicators \n",
    "of how the DMS has performed in processing the night's observations, including at least:\n",
    "number of observations successfully processed through each pipeline; number of\n",
    "observations for each pipeline that had recoverable failures (with a record of the failure type\n",
    "and recovery mechanism); number of observations for each pipeline that had unrecoverable\n",
    "failures; number of observations archived at each DMS Facility; number of observations\n",
    "satisfying the science criteria for each active science program."
   ]
  },
  {
   "cell_type": "code",
   "execution_count": 29,
   "id": "42d16f6d-eaa6-4cdd-8e2e-f82f2d9f80d3",
   "metadata": {
    "execution": {
     "iopub.execute_input": "2024-10-24T17:48:30.485633Z",
     "iopub.status.busy": "2024-10-24T17:48:30.485500Z",
     "iopub.status.idle": "2024-10-24T17:48:30.488069Z",
     "shell.execute_reply": "2024-10-24T17:48:30.487719Z",
     "shell.execute_reply.started": "2024-10-24T17:48:30.485621Z"
    }
   },
   "outputs": [],
   "source": [
    "from dataclasses import dataclass\n",
    "import pandas\n",
    "import tabulate\n",
    "from astropy.time import Time, TimeDelta\n",
    "from lsst_efd_client import EfdClient\n",
    "from lsst.daf.butler import Butler\n",
    "from lsst.pipe.base import Pipeline"
   ]
  },
  {
   "cell_type": "code",
   "execution_count": 30,
   "id": "5bc618fd-a36e-4793-bdf6-d38918898995",
   "metadata": {
    "execution": {
     "iopub.execute_input": "2024-10-24T17:48:30.488694Z",
     "iopub.status.busy": "2024-10-24T17:48:30.488572Z",
     "iopub.status.idle": "2024-10-24T17:48:30.497493Z",
     "shell.execute_reply": "2024-10-24T17:48:30.497145Z",
     "shell.execute_reply.started": "2024-10-24T17:48:30.488683Z"
    }
   },
   "outputs": [],
   "source": [
    "async def get_df_from_next_visit_events(date):\n",
    "    client = EfdClient(\"usdf_efd\")\n",
    "\n",
    "    start = Time(date, scale=\"utc\", format=\"isot\") + TimeDelta(\n",
    "        12 * 60 * 60, format=\"sec\"\n",
    "    )\n",
    "    end = start + TimeDelta(1, format=\"jd\")\n",
    "\n",
    "    topic = \"lsst.sal.ScriptQueue.logevent_nextVisit\"\n",
    "    df = await client.select_time_series(topic, [\"*\"], start.utc, end.utc)\n",
    "    all_canceled = await client.select_time_series(\n",
    "        topic + \"Canceled\", [\"*\"], start.utc, end.utc\n",
    "    )\n",
    "\n",
    "    if df.empty:\n",
    "        logger.info(f\"No events on {date}\")\n",
    "        return pandas.DataFrame()\n",
    "\n",
    "    # Only select imaging survey\n",
    "    df = df.loc[\n",
    "        (df[\"coordinateSystem\"] == 2)\n",
    "        & (df[\"salIndex\"] == sal_index)\n",
    "        & (df[\"survey\"] == survey)\n",
    "    ].set_index(\"groupId\")\n",
    "    print(f\"There were {len(df)} {survey} nextVisit events on {date}\")\n",
    "\n",
    "    # Ignore the explicitly canceled groups\n",
    "    if not all_canceled.empty:\n",
    "        canceled = df.index.intersection(\n",
    "            all_canceled.set_index(\"groupId\").index\n",
    "        ).tolist()\n",
    "        if canceled:\n",
    "            print(f\"{len(canceled)} events were canceled {canceled}\")\n",
    "            df = df.drop(canceled)\n",
    "\n",
    "    return df"
   ]
  },
  {
   "cell_type": "code",
   "execution_count": 31,
   "id": "ab7fbef7-2e4b-4382-98b4-1b3172c91d43",
   "metadata": {
    "execution": {
     "iopub.execute_input": "2024-10-24T17:48:30.498020Z",
     "iopub.status.busy": "2024-10-24T17:48:30.497900Z",
     "iopub.status.idle": "2024-10-24T17:48:31.259496Z",
     "shell.execute_reply": "2024-10-24T17:48:31.258962Z",
     "shell.execute_reply.started": "2024-10-24T17:48:30.498008Z"
    }
   },
   "outputs": [
    {
     "name": "stdout",
     "output_type": "stream",
     "text": [
      "There were 32 BLOCK-306 nextVisit events on 2024-09-24\n"
     ]
    }
   ],
   "source": [
    "df_efd = await get_df_from_next_visit_events(date)"
   ]
  },
  {
   "cell_type": "code",
   "execution_count": 32,
   "id": "44d38aa7-0630-4b61-a9d5-5caeddc6f782",
   "metadata": {
    "execution": {
     "iopub.execute_input": "2024-10-24T17:48:31.260407Z",
     "iopub.status.busy": "2024-10-24T17:48:31.260064Z",
     "iopub.status.idle": "2024-10-24T17:48:31.632543Z",
     "shell.execute_reply": "2024-10-24T17:48:31.632104Z",
     "shell.execute_reply.started": "2024-10-24T17:48:31.260393Z"
    }
   },
   "outputs": [],
   "source": [
    "if instrument == \"LATISS\":\n",
    "    butler_alias = \"embargo_old\"\n",
    "else:\n",
    "    butler_alias = \"embargo_new\"\n",
    "    \n",
    "butler = Butler(butler_alias,\n",
    "                collections=[f\"{instrument}/raw/all\", f\"{instrument}/prompt/output-{date:s}\"],\n",
    "                writeable=False)"
   ]
  },
  {
   "cell_type": "code",
   "execution_count": 33,
   "id": "d45f6911-bbd5-45fb-92bd-66c152cc5818",
   "metadata": {
    "execution": {
     "iopub.execute_input": "2024-10-24T17:48:31.633283Z",
     "iopub.status.busy": "2024-10-24T17:48:31.633065Z",
     "iopub.status.idle": "2024-10-24T17:48:31.648398Z",
     "shell.execute_reply": "2024-10-24T17:48:31.647958Z",
     "shell.execute_reply.started": "2024-10-24T17:48:31.633270Z"
    }
   },
   "outputs": [
    {
     "name": "stdout",
     "output_type": "stream",
     "text": [
      "32 raw exposure records are in Butler(collections=<lsst.daf.butler.direct_butler._direct_butler_collections.DirectButlerCollections object at 0x7fd4f7e1b710>, run=None, datastore='s3://rubin-summit-users/', registry='PostgreSQL@lsstdb1:embargo_old') for 20240924\n"
     ]
    }
   ],
   "source": [
    "results = butler.registry.queryDimensionRecords(\n",
    "    \"exposure\",\n",
    "    where=\"exposure.science_program IN (survey) \"\n",
    "    \"and instrument=instrument_name and day_obs=dayobs  \",\n",
    "    bind={\"dayobs\": day_obs, \"instrument_name\": instrument, \"survey\": survey},\n",
    ")\n",
    "print(f\"{results.count()} raw exposure records are in {butler} for {day_obs}\")\n",
    "\n",
    "embargo_records = dict()\n",
    "for record in results:\n",
    "    embargo_records[record.id] = record\n",
    "\n",
    "if embargo_records:\n",
    "    df_butler = pandas.DataFrame.from_records(\n",
    "        [embargo_records[num].toDict() for num in embargo_records]\n",
    "    ).set_index(\"group\")\n",
    "else:\n",
    "    df_butler = None\n",
    "    logger.warning(f\"No raw records found in {butler}. Notebook will fail.\")"
   ]
  },
  {
   "cell_type": "code",
   "execution_count": 34,
   "id": "d460e4a5-9dbf-4ed7-9ee3-8681a5095a45",
   "metadata": {
    "execution": {
     "iopub.execute_input": "2024-10-24T17:48:31.649224Z",
     "iopub.status.busy": "2024-10-24T17:48:31.649078Z",
     "iopub.status.idle": "2024-10-24T17:48:31.659189Z",
     "shell.execute_reply": "2024-10-24T17:48:31.658839Z",
     "shell.execute_reply.started": "2024-10-24T17:48:31.649211Z"
    }
   },
   "outputs": [],
   "source": [
    "groups_no_raw = set(df_efd.index) - set(df_butler.index)\n",
    "if groups_no_raw:\n",
    "    print(\n",
    "        f\"{len(groups_no_raw)} group had records in EFD but no raws in the embargo butler: {groups_no_raw}\"\n",
    "    )"
   ]
  },
  {
   "cell_type": "code",
   "execution_count": 35,
   "id": "947ffe6b-8845-427b-9d32-93b67e31ed10",
   "metadata": {
    "execution": {
     "iopub.execute_input": "2024-10-24T17:48:31.659725Z",
     "iopub.status.busy": "2024-10-24T17:48:31.659606Z",
     "iopub.status.idle": "2024-10-24T17:48:31.663283Z",
     "shell.execute_reply": "2024-10-24T17:48:31.662834Z",
     "shell.execute_reply.started": "2024-10-24T17:48:31.659714Z"
    }
   },
   "outputs": [],
   "source": [
    "groups = set(df_efd.index) & set(df_butler.index)"
   ]
  },
  {
   "cell_type": "code",
   "execution_count": 36,
   "id": "71ccb2c6-ea4e-45fe-a0aa-94e9ec076db5",
   "metadata": {
    "execution": {
     "iopub.execute_input": "2024-10-24T17:48:31.663879Z",
     "iopub.status.busy": "2024-10-24T17:48:31.663727Z",
     "iopub.status.idle": "2024-10-24T17:48:31.667998Z",
     "shell.execute_reply": "2024-10-24T17:48:31.667550Z",
     "shell.execute_reply.started": "2024-10-24T17:48:31.663867Z"
    }
   },
   "outputs": [
    {
     "name": "stdout",
     "output_type": "stream",
     "text": [
      "Number of groups with raw from BLOCK-306 nextVisit: 32\n"
     ]
    }
   ],
   "source": [
    "print(f\"Number of groups with raw from {survey} nextVisit: {len(groups)}\")"
   ]
  },
  {
   "cell_type": "code",
   "execution_count": 37,
   "id": "941dce4f-218e-487f-9c28-70c36c30a304",
   "metadata": {
    "execution": {
     "iopub.execute_input": "2024-10-24T17:48:31.668563Z",
     "iopub.status.busy": "2024-10-24T17:48:31.668437Z",
     "iopub.status.idle": "2024-10-24T17:48:32.729411Z",
     "shell.execute_reply": "2024-10-24T17:48:32.728979Z",
     "shell.execute_reply.started": "2024-10-24T17:48:31.668551Z"
    }
   },
   "outputs": [],
   "source": [
    "sfm_counts = len(\n",
    "    butler.query_datasets(\n",
    "        \"isr_log\",\n",
    "        collections=f\"LATISS/prompt/output-{date}/SingleFrame*\",\n",
    "        where=f\"exposure.science_program IN (survey)\",\n",
    "        bind={\"survey\": survey},\n",
    "        find_first=False,\n",
    "        explain=False,\n",
    "    )\n",
    ")\n",
    "dia_counts = len(\n",
    "    butler.query_datasets(\n",
    "        \"isr_log\",\n",
    "        collections=f\"LATISS/prompt/output-{date}/ApPipe*\",\n",
    "        where=f\"exposure.science_program IN (survey)\",\n",
    "        bind={\"survey\": survey},\n",
    "        find_first=False,\n",
    "        explain=False,\n",
    "    )\n",
    ")"
   ]
  },
  {
   "cell_type": "code",
   "execution_count": 38,
   "id": "20ff6647-2dda-484a-8654-bd745097adc4",
   "metadata": {
    "execution": {
     "iopub.execute_input": "2024-10-24T17:48:32.730019Z",
     "iopub.status.busy": "2024-10-24T17:48:32.729884Z",
     "iopub.status.idle": "2024-10-24T17:48:32.732689Z",
     "shell.execute_reply": "2024-10-24T17:48:32.732331Z",
     "shell.execute_reply.started": "2024-10-24T17:48:32.730007Z"
    }
   },
   "outputs": [
    {
     "name": "stdout",
     "output_type": "stream",
     "text": [
      "Number of PP pipeline runs: 32 single-frame-only, 0 ApPipe\n"
     ]
    }
   ],
   "source": [
    "print(\"Number of PP pipeline runs: {:d} single-frame-only, {:d} ApPipe\".format(sfm_counts, dia_counts))"
   ]
  },
  {
   "cell_type": "code",
   "execution_count": 39,
   "id": "9201c7d8-794d-4249-a7e3-20e5026c8a9b",
   "metadata": {
    "execution": {
     "iopub.execute_input": "2024-10-24T17:48:32.733193Z",
     "iopub.status.busy": "2024-10-24T17:48:32.733076Z",
     "iopub.status.idle": "2024-10-24T17:48:32.736987Z",
     "shell.execute_reply": "2024-10-24T17:48:32.736629Z",
     "shell.execute_reply.started": "2024-10-24T17:48:32.733182Z"
    }
   },
   "outputs": [
    {
     "name": "stdout",
     "output_type": "stream",
     "text": [
      "32 did not run the full ApPipe, likely due to no template coverage.\n"
     ]
    }
   ],
   "source": [
    "print(f\"{sfm_counts} did not run the full ApPipe, likely due to no template coverage.\")"
   ]
  },
  {
   "cell_type": "code",
   "execution_count": 41,
   "id": "420a3978-377e-4e7a-ab55-8e0577cd8395",
   "metadata": {
    "execution": {
     "iopub.execute_input": "2024-10-24T17:49:08.895912Z",
     "iopub.status.busy": "2024-10-24T17:49:08.895645Z",
     "iopub.status.idle": "2024-10-24T17:49:08.934164Z",
     "shell.execute_reply": "2024-10-24T17:49:08.933769Z",
     "shell.execute_reply.started": "2024-10-24T17:49:08.895895Z"
    }
   },
   "outputs": [
    {
     "name": "stdout",
     "output_type": "stream",
     "text": [
      "Number of ISR records in butler: 32\n",
      "Number of successful processCcd: 29\n",
      "Number of successful DIA: 0\n"
     ]
    }
   ],
   "source": [
    "log_visit_detector = set([(x.dataId['exposure'], x.dataId['detector']) for x in butler.query_datasets(\"isr_log\", explain=False, where=f\"exposure.science_program='{survey}'\")])\n",
    "print(\"Number of ISR records in butler: {:d}\".format(len(log_visit_detector)))\n",
    "\n",
    "last_pvi_type = \"initial_photometry_match_detector\"\n",
    "pvi_visit_detector = set([(x.dataId['visit'], x.dataId['detector']) for x in butler.query_datasets(last_pvi_type, explain=False, where=f\"visit.science_program='{survey}'\")])\n",
    "print(\"Number of successful processCcd: {:d}\".format(len(pvi_visit_detector)))\n",
    "\n",
    "dia_visit_detector = set([(x.dataId['visit'], x.dataId['detector']) for x in butler.query_datasets(\"apdb_marker\", explain=False, where=f\"visit.science_program='{survey}'\")])\n",
    "print(\"Number of successful DIA: {:d}\".format(len(dia_visit_detector)))"
   ]
  },
  {
   "cell_type": "code",
   "execution_count": 42,
   "id": "5ea2e18d-fd23-4da6-ae7c-3890ad40cd47",
   "metadata": {
    "execution": {
     "iopub.execute_input": "2024-10-24T17:49:10.470231Z",
     "iopub.status.busy": "2024-10-24T17:49:10.469895Z",
     "iopub.status.idle": "2024-10-24T17:49:10.473187Z",
     "shell.execute_reply": "2024-10-24T17:49:10.472791Z",
     "shell.execute_reply.started": "2024-10-24T17:49:10.470213Z"
    }
   },
   "outputs": [],
   "source": [
    "@dataclass\n",
    "class error_summary:\n",
    "    visit: int\n",
    "    detector: int\n",
    "    error_messages: list"
   ]
  },
  {
   "cell_type": "code",
   "execution_count": 43,
   "id": "66152ccb-8735-4b7b-9a72-5a5c4765c26a",
   "metadata": {
    "execution": {
     "iopub.execute_input": "2024-10-24T17:49:10.996453Z",
     "iopub.status.busy": "2024-10-24T17:49:10.996126Z",
     "iopub.status.idle": "2024-10-24T17:49:11.000620Z",
     "shell.execute_reply": "2024-10-24T17:49:11.000195Z",
     "shell.execute_reply.started": "2024-10-24T17:49:10.996432Z"
    }
   },
   "outputs": [],
   "source": [
    "def make_error_summaries(log_dataset_types_exposure, log_dataset_types_visit, data_ids):\n",
    "    error_summaries = []\n",
    "    for visit, detector in data_ids:\n",
    "    \n",
    "        visit_errors = []\n",
    "        \n",
    "        for ds_types in log_dataset_types_exposure:\n",
    "            log_messages = butler.get(ds_types, dataId={\"instrument\": instrument, \"exposure\": visit, \"detector\": detector})\n",
    "            isr_errors = [msg for msg in log_messages if msg.levelno > 30]\n",
    "            visit_errors.extend(isr_errors)\n",
    "        \n",
    "        for ds_types in log_dataset_types_visit:\n",
    "            try:\n",
    "                log_messages = butler.get(ds_types, dataId={\"instrument\": instrument, \"visit\": visit, \"detector\": detector})\n",
    "            except DimensionNameError: # Visit records can be missing due to corrupted headers.\n",
    "                errors = []\n",
    "            else:\n",
    "                errors = [msg for msg in log_messages if msg.levelno > 30]\n",
    "            finally:\n",
    "                visit_errors.extend(errors)\n",
    "    \n",
    "        error_summaries.append(error_summary(visit=visit, detector=detector, error_messages=visit_errors))\n",
    "    return error_summaries"
   ]
  },
  {
   "cell_type": "code",
   "execution_count": 44,
   "id": "03b716b3-2b77-4c01-a82f-e37f9ca4e0ee",
   "metadata": {
    "execution": {
     "iopub.execute_input": "2024-10-24T17:49:11.572367Z",
     "iopub.status.busy": "2024-10-24T17:49:11.572050Z",
     "iopub.status.idle": "2024-10-24T17:49:12.341704Z",
     "shell.execute_reply": "2024-10-24T17:49:12.341223Z",
     "shell.execute_reply.started": "2024-10-24T17:49:11.572351Z"
    }
   },
   "outputs": [],
   "source": [
    "pipeline = Pipeline.from_uri(f\"$AP_PIPE_DIR/pipelines/{instrument}/ApPipe.yaml#prompt\")\n",
    "pipeline.addConfigOverride(\"diaPipe\", \"apdb_config_url\", \"dummy\")\n",
    "\n",
    "pipeline_graph = pipeline.to_graph(registry=butler.registry)"
   ]
  },
  {
   "cell_type": "code",
   "execution_count": 51,
   "id": "cae69492-65a7-46cb-9778-e5e8a6e164f2",
   "metadata": {
    "execution": {
     "iopub.execute_input": "2024-10-24T17:51:42.698456Z",
     "iopub.status.busy": "2024-10-24T17:51:42.698254Z",
     "iopub.status.idle": "2024-10-24T17:51:45.435194Z",
     "shell.execute_reply": "2024-10-24T17:51:45.434672Z",
     "shell.execute_reply.started": "2024-10-24T17:51:42.698440Z"
    }
   },
   "outputs": [],
   "source": [
    "last_records = log_visit_detector\n",
    "table_contents = []\n",
    "last_task = \"isr\"\n",
    "for task in pipeline_graph.tasks:\n",
    "    if task in (\"isr\",):\n",
    "        continue\n",
    "    records = set([(x.dataId['visit'], x.dataId['detector']) for x in butler.query_datasets(task+\"_log\", explain=False, where=f\"visit.science_program='{survey}'\")])\n",
    "    error_summaries = make_error_summaries([\"isr_log\"], [last_task+\"_log\"], set(last_records) - set(records))\n",
    "    for e in error_summaries: \n",
    "        if e.error_messages:\n",
    "            msg = e.error_messages[0].message[:1000]  \n",
    "            table_contents.append((e.visit, e.detector, last_task, msg)) \n",
    "    last_task = task\n",
    "    last_records = records"
   ]
  },
  {
   "cell_type": "code",
   "execution_count": 54,
   "id": "fb8a59eb-cf4c-494a-adf8-0eef679fb4bb",
   "metadata": {
    "execution": {
     "iopub.execute_input": "2024-10-24T17:55:10.712537Z",
     "iopub.status.busy": "2024-10-24T17:55:10.712228Z",
     "iopub.status.idle": "2024-10-24T17:55:10.715103Z",
     "shell.execute_reply": "2024-10-24T17:55:10.714753Z",
     "shell.execute_reply.started": "2024-10-24T17:55:10.712520Z"
    }
   },
   "outputs": [
    {
     "name": "stdout",
     "output_type": "stream",
     "text": [
      "Number of unrecoverable pipeline failures: 3\n"
     ]
    }
   ],
   "source": [
    "print(f\"Number of unrecoverable pipeline failures: {len(table_contents)}\")"
   ]
  },
  {
   "cell_type": "code",
   "execution_count": 52,
   "id": "9b44a5df-8129-4b57-9bb7-0032d7d67c62",
   "metadata": {
    "execution": {
     "iopub.execute_input": "2024-10-24T17:51:45.436341Z",
     "iopub.status.busy": "2024-10-24T17:51:45.436083Z",
     "iopub.status.idle": "2024-10-24T17:51:45.440413Z",
     "shell.execute_reply": "2024-10-24T17:51:45.440011Z",
     "shell.execute_reply.started": "2024-10-24T17:51:45.436322Z"
    }
   },
   "outputs": [
    {
     "data": {
      "text/html": [
       "<table>\n",
       "<thead>\n",
       "<tr><th style=\"text-align: right;\">        Visit</th><th style=\"text-align: right;\">  Det</th><th>Last Task     </th><th>Error Message                                                                                                                                                                                                                                  </th></tr>\n",
       "</thead>\n",
       "<tbody>\n",
       "<tr><td style=\"text-align: right;\">2024092400389</td><td style=\"text-align: right;\">    0</td><td>calibrateImage</td><td>Failure fitting astrometry. MatcherFailure: No matches found: {'iterations': 1}                                                                                                                                                                </td></tr>\n",
       "<tr><td style=\"text-align: right;\">2024092400393</td><td style=\"text-align: right;\">    0</td><td>calibrateImage</td><td>Failure fitting astrometry. MatcherFailure: Not enough catalog objects (3) to make a shape for the matcher (need 5).: {'iterations': 1}                                                                                                        </td></tr>\n",
       "<tr><td style=\"text-align: right;\">2024092400395</td><td style=\"text-align: right;\">    0</td><td>calibrateImage</td><td>Task 'calibrateImage' on quantum {instrument: 'LATISS', detector: 0, visit: 2024092400395, band: 'g', day_obs: 20240924, physical_filter: 'SDSSg_65mm~empty'} exited with partial outputs; considering this a qualified success and proceeding.</td></tr>\n",
       "</tbody>\n",
       "</table>"
      ],
      "text/plain": [
       "'<table>\\n<thead>\\n<tr><th style=\"text-align: right;\">        Visit</th><th style=\"text-align: right;\">  Det</th><th>Last Task     </th><th>Error Message                                                                                                                                                                                                                                  </th></tr>\\n</thead>\\n<tbody>\\n<tr><td style=\"text-align: right;\">2024092400389</td><td style=\"text-align: right;\">    0</td><td>calibrateImage</td><td>Failure fitting astrometry. MatcherFailure: No matches found: {\\'iterations\\': 1}                                                                                                                                                                </td></tr>\\n<tr><td style=\"text-align: right;\">2024092400393</td><td style=\"text-align: right;\">    0</td><td>calibrateImage</td><td>Failure fitting astrometry. MatcherFailure: Not enough catalog objects (3) to make a shape for the matcher (need 5).: {\\'iterations\\': 1}                                                                                                        </td></tr>\\n<tr><td style=\"text-align: right;\">2024092400395</td><td style=\"text-align: right;\">    0</td><td>calibrateImage</td><td>Task \\'calibrateImage\\' on quantum {instrument: \\'LATISS\\', detector: 0, visit: 2024092400395, band: \\'g\\', day_obs: 20240924, physical_filter: \\'SDSSg_65mm~empty\\'} exited with partial outputs; considering this a qualified success and proceeding.</td></tr>\\n</tbody>\\n</table>'"
      ]
     },
     "execution_count": 52,
     "metadata": {},
     "output_type": "execute_result"
    }
   ],
   "source": [
    "table = tabulate.tabulate(sorted(table_contents), tablefmt='unsafehtml', headers=(\"Visit\", \"Det\", \"Last Task\", \"Error Message\"))\n",
    "table"
   ]
  },
  {
   "cell_type": "code",
   "execution_count": null,
   "id": "be433ae2-2401-4296-b530-5d57ccffd92b",
   "metadata": {},
   "outputs": [],
   "source": []
  },
  {
   "cell_type": "code",
   "execution_count": null,
   "id": "996b635c-f750-445b-bcce-4b09545d446a",
   "metadata": {},
   "outputs": [],
   "source": []
  },
  {
   "cell_type": "code",
   "execution_count": null,
   "id": "58f3d4e8-2e39-4ae0-945d-71f3f61d73a3",
   "metadata": {},
   "outputs": [],
   "source": []
  }
 ],
 "metadata": {
  "kernelspec": {
   "display_name": "LSST",
   "language": "python",
   "name": "lsst"
  },
  "language_info": {
   "codemirror_mode": {
    "name": "ipython",
    "version": 3
   },
   "file_extension": ".py",
   "mimetype": "text/x-python",
   "name": "python",
   "nbconvert_exporter": "python",
   "pygments_lexer": "ipython3",
   "version": "3.11.9"
  }
 },
 "nbformat": 4,
 "nbformat_minor": 5
}
