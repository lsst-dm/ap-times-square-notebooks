{
 "cells": [
  {
   "cell_type": "code",
   "execution_count": null,
   "id": "0",
   "metadata": {},
   "outputs": [],
   "source": [
    "# Parameters.  Set defaults here.\n",
    "import datetime\n",
    "\n",
    "dayobs_date = datetime.date.fromisoformat(\"2025-09-21\")\n",
    "instrument = \"LSSTCam\""
   ]
  },
  {
   "cell_type": "code",
   "execution_count": null,
   "id": "1",
   "metadata": {},
   "outputs": [],
   "source": [
    "date = dayobs_date.isoformat()\n",
    "day_obs = date.replace(\"-\", \"\")  # day_obs is a string in the EFD"
   ]
  },
  {
   "cell_type": "markdown",
   "id": "2",
   "metadata": {},
   "source": [
    "# Alert Production Data Quality Report for {{params.instrument}} on {{ date }}"
   ]
  },
  {
   "cell_type": "code",
   "execution_count": null,
   "id": "3",
   "metadata": {},
   "outputs": [],
   "source": [
    "match instrument:\n",
    "    case \"LSSTCam\":\n",
    "        sal_index = 1\n",
    "        n_detector = 189\n",
    "    case \"LSSTComCam\":\n",
    "        sal_index = 1\n",
    "        n_detector = 9\n",
    "    case \"LATISS\":\n",
    "        sal_index = 2\n",
    "        n_detector = 1\n",
    "    case \"LSSTComCamSim\":\n",
    "        sal_index = 3\n",
    "        n_detector = 9\n",
    "    case _:\n",
    "        raise ValueError(f\"Unknown instrument {instrument}\")"
   ]
  },
  {
   "cell_type": "code",
   "execution_count": null,
   "id": "4",
   "metadata": {},
   "outputs": [],
   "source": [
    "# https://rtn-045.lsst.io/#colorblind-friendly-plots\n",
    "plot_filter_colors = {\n",
    "    \"u\": \"#1600ea\",\n",
    "    \"g\": \"#31de1f\",\n",
    "    \"r\": \"#b52626\",\n",
    "    \"i\": \"#370201\",\n",
    "    \"z\": \"#ba52ff\",\n",
    "    \"y\": \"#61a2b3\",\n",
    "}\n",
    "plot_symbols = {\"u\": \"o\", \"g\": \"^\", \"r\": \"v\", \"i\": \"s\", \"z\": \"*\", \"y\": \"p\"}"
   ]
  },
  {
   "cell_type": "markdown",
   "id": "5",
   "metadata": {},
   "source": [
    "1.3.14 Level 1 Data Quality Report Definition\n",
    "\n",
    "ID: DMS-REQ-0097 (Priority: 1a)\n",
    "\n",
    "Specification: The DMS shall produce a Level 1 Data Quality Report that contains indicators\n",
    "of data quality that result from running the DMS pipelines, including at least: Photometric\n",
    "zero point vs. time for each utilized filter; Sky brightness vs. time for each utilized filter; seeing\n",
    "vs. time for each utilized filter; PSF parameters vs. time for each utilized filter; detection\n",
    "efficiency for point sources vs. mag for each utilized filter.\n",
    "\n",
    "Discussion: The seeing report is intended as a broad-brush measure of image quality. The\n",
    "PSF parameters provide more detail, as they include asymmetries and field location\n",
    "dependence"
   ]
  },
  {
   "cell_type": "markdown",
   "id": "6",
   "metadata": {},
   "source": [
    "The plots below are generated from metrics computed in single-frame processing in Prompt Processing."
   ]
  },
  {
   "cell_type": "code",
   "execution_count": null,
   "id": "7",
   "metadata": {},
   "outputs": [],
   "source": [
    "import numpy as np\n",
    "import matplotlib.pyplot as plt\n",
    "import pandas as pd\n",
    "from lsst_efd_client import EfdClient\n",
    "from astropy.time import Time\n",
    "import astropy.units as u"
   ]
  },
  {
   "cell_type": "code",
   "execution_count": null,
   "id": "8",
   "metadata": {},
   "outputs": [],
   "source": [
    "t = Time(date)\n",
    "search_start_time = t.isot + \"Z\"\n",
    "# TODO: look at time zones and understand if a narrower range can capture all of one dayobs\n",
    "search_end_time = (t + 2 * u.day).isot + \"Z\""
   ]
  },
  {
   "cell_type": "code",
   "execution_count": null,
   "id": "9",
   "metadata": {},
   "outputs": [],
   "source": [
    "# As of 9 Oct 24, `lsst.prompt` is only available in usdfdev while we await authentication.\n",
    "client = EfdClient(\"usdfdev_efd\", db_name=\"lsst.prompt\")\n",
    "\n",
    "\n",
    "# waiting on input in #sasquatch_support\n",
    "# client = EfdClient(\"usdf_efd\", db_name=\"lsst.prompt\")"
   ]
  },
  {
   "cell_type": "code",
   "execution_count": null,
   "id": "10",
   "metadata": {},
   "outputs": [],
   "source": [
    "# await client.get_topics()"
   ]
  },
  {
   "cell_type": "code",
   "execution_count": null,
   "id": "11",
   "metadata": {},
   "outputs": [],
   "source": [
    "# await client.get_fields(\"lsst.prompt.prod.initialPviSummaryMetrics\")"
   ]
  },
  {
   "cell_type": "code",
   "execution_count": null,
   "id": "12",
   "metadata": {},
   "outputs": [],
   "source": [
    "# https://docs.influxdata.com/influxdb/v1/query_language/explore-data/#the-where-clause\n",
    "#\n",
    "# > Single quote string field values in the WHERE clause. Queries with unquoted string field values or double quoted string field values will not return any data and, in most cases, will not return an error."
   ]
  },
  {
   "cell_type": "code",
   "execution_count": null,
   "id": "13",
   "metadata": {},
   "outputs": [],
   "source": [
    "# Testing to find instruments\n",
    "# query = f\"\"\"SELECT \"instrument\" FROM \"lsst.prompt.prod.initialPviSummaryMetrics\" \"\"\"\n",
    "\n",
    "# print(query)\n",
    "# initialPviSummaryMetrics = await client.influx_client.query(query)\n",
    "# set(initialPviSummaryMetrics['instrument'])"
   ]
  },
  {
   "cell_type": "code",
   "execution_count": null,
   "id": "14",
   "metadata": {},
   "outputs": [],
   "source": [
    "# Testing to find good dates\n",
    "# query = f\"\"\"SELECT * FROM \"lsst.prompt.prod.initialPviSummaryMetrics\" WHERE \"instrument\" = '{instrument}' \"\"\"\n",
    "# query = f\"\"\"SELECT \"instrument\" FROM \"lsst.prompt.prod.initialPviSummaryMetrics\" \"\"\"\n",
    "\n",
    "\n",
    "# print(query)\n",
    "# initialPviSummaryMetrics = await client.influx_client.query(query)\n",
    "# set(initialPviSummaryMetrics['instrument'])"
   ]
  },
  {
   "cell_type": "code",
   "execution_count": null,
   "id": "15",
   "metadata": {},
   "outputs": [],
   "source": [
    "query = f\"\"\"SELECT * FROM \"lsst.prompt.prod.initialPviSummaryMetrics\" WHERE \n",
    "\"time\" > '{search_start_time}' AND \"time\" < '{search_end_time}'  AND\n",
    "\"day_obs\" = '{day_obs}' AND \"instrument\" = '{instrument}' \"\"\"\n",
    "# print(query)\n",
    "# initialPviSummaryMetrics = await client.influx_client.query(query)\n",
    "\n",
    "chunks = await client.influx_client.query(query, chunked=True, chunk_size=10000)\n",
    "initialPviSummaryMetrics = pd.concat([pd.DataFrame(chunk) async for chunk in chunks])"
   ]
  },
  {
   "cell_type": "code",
   "execution_count": null,
   "id": "16",
   "metadata": {},
   "outputs": [],
   "source": [
    "# initialPviSummaryMetrics"
   ]
  },
  {
   "cell_type": "code",
   "execution_count": null,
   "id": "17",
   "metadata": {},
   "outputs": [],
   "source": [
    "if len(initialPviSummaryMetrics) == 0:\n",
    "    raise SystemExit(f\"No data for {date}.\")"
   ]
  },
  {
   "cell_type": "code",
   "execution_count": null,
   "id": "18",
   "metadata": {},
   "outputs": [],
   "source": []
  },
  {
   "cell_type": "code",
   "execution_count": null,
   "id": "19",
   "metadata": {},
   "outputs": [],
   "source": []
  },
  {
   "cell_type": "code",
   "execution_count": null,
   "id": "20",
   "metadata": {},
   "outputs": [],
   "source": [
    "# query = f\"\"\"SELECT zeroPoint FROM \"lsst.prompt.prod.initialPviSummaryMetrics\" WHERE\n",
    "#        \"time\" > '{search_start_time}' AND \"time\" < '{search_end_time}'  AND \"day_obs\" = '{day_obs}' AND \"instrument\" = '{instrument}' \"\"\"\n",
    "# print(query)\n",
    "# initialPviSummaryMetrics = await client.influx_client.query(query)"
   ]
  },
  {
   "cell_type": "code",
   "execution_count": null,
   "id": "21",
   "metadata": {},
   "outputs": [],
   "source": [
    "# query = f\"\"\"EXPLAIN ANALYZE SELECT * FROM \"lsst.prompt.prod.initialPviSummaryMetrics\" WHERE \"day_obs\" = '{day_obs}' AND \"instrument\" = '{instrument}' \"\"\"\n",
    "# print(query)\n",
    "# initialPviSummaryMetrics = await client.influx_client.query(query)"
   ]
  },
  {
   "cell_type": "code",
   "execution_count": null,
   "id": "22",
   "metadata": {},
   "outputs": [],
   "source": [
    "# initialPviSummaryMetrics"
   ]
  },
  {
   "cell_type": "code",
   "execution_count": null,
   "id": "23",
   "metadata": {},
   "outputs": [],
   "source": [
    "def plot_metric_vs_time_by_filter(df, column, unit=None):\n",
    "    fig = plt.figure()\n",
    "    for filt in plot_filter_colors.keys():\n",
    "        wf = df[\"band\"] == filt\n",
    "\n",
    "        if np.sum(wf):\n",
    "            plt.plot(\n",
    "                df.loc[wf].index,\n",
    "                df.loc[wf, column],\n",
    "                plot_symbols[filt],\n",
    "                color=plot_filter_colors[filt],\n",
    "                label=filt,\n",
    "            )\n",
    "\n",
    "    plt.legend()\n",
    "    plt.xlabel(\"Time\")\n",
    "    ylabel = f\"{column} [{unit}]\" if unit else column\n",
    "    plt.ylabel(ylabel)"
   ]
  },
  {
   "cell_type": "code",
   "execution_count": null,
   "id": "24",
   "metadata": {},
   "outputs": [],
   "source": [
    "# units are taken from https://github.com/lsst/analysis_tools/blob/main/python/lsst/analysis/tools/atools/calexpMetrics.py"
   ]
  },
  {
   "cell_type": "markdown",
   "id": "25",
   "metadata": {},
   "source": [
    "## Photometric Zeropoint vs. Time, by Filter"
   ]
  },
  {
   "cell_type": "code",
   "execution_count": null,
   "id": "26",
   "metadata": {},
   "outputs": [],
   "source": [
    "plot_metric_vs_time_by_filter(initialPviSummaryMetrics, \"zeroPoint\", unit=\"mag\")"
   ]
  },
  {
   "cell_type": "markdown",
   "id": "27",
   "metadata": {},
   "source": [
    "## Sky Brightness vs. Time, by Filter"
   ]
  },
  {
   "cell_type": "code",
   "execution_count": null,
   "id": "28",
   "metadata": {},
   "outputs": [],
   "source": [
    "plot_metric_vs_time_by_filter(initialPviSummaryMetrics, \"skyBg\", unit=\"electrons\")"
   ]
  },
  {
   "cell_type": "code",
   "execution_count": null,
   "id": "29",
   "metadata": {},
   "outputs": [],
   "source": [
    "plot_metric_vs_time_by_filter(initialPviSummaryMetrics, \"skyNoise\", unit=\"electrons\")"
   ]
  },
  {
   "cell_type": "markdown",
   "id": "30",
   "metadata": {},
   "source": [
    "## Seeing vs. Time, by Filter"
   ]
  },
  {
   "cell_type": "code",
   "execution_count": null,
   "id": "31",
   "metadata": {},
   "outputs": [],
   "source": [
    "plot_metric_vs_time_by_filter(initialPviSummaryMetrics, \"psfSigma\", unit=\"pixels\")"
   ]
  },
  {
   "cell_type": "markdown",
   "id": "32",
   "metadata": {},
   "source": [
    "## PSF Parameters vs. Time, by Filter"
   ]
  },
  {
   "cell_type": "code",
   "execution_count": null,
   "id": "33",
   "metadata": {},
   "outputs": [],
   "source": [
    "plot_metric_vs_time_by_filter(initialPviSummaryMetrics, \"psfIxx\", unit=\"pixel$^2$\")"
   ]
  },
  {
   "cell_type": "code",
   "execution_count": null,
   "id": "34",
   "metadata": {},
   "outputs": [],
   "source": [
    "plot_metric_vs_time_by_filter(initialPviSummaryMetrics, \"psfIyy\", unit=\"pixel$^2$\")"
   ]
  },
  {
   "cell_type": "code",
   "execution_count": null,
   "id": "35",
   "metadata": {},
   "outputs": [],
   "source": [
    "plot_metric_vs_time_by_filter(initialPviSummaryMetrics, \"psfIxy\", unit=\"pixel$^2$\")"
   ]
  },
  {
   "cell_type": "code",
   "execution_count": null,
   "id": "36",
   "metadata": {},
   "outputs": [],
   "source": [
    "plot_metric_vs_time_by_filter(initialPviSummaryMetrics, \"psfArea\", unit=\"pixel$^2$\")"
   ]
  },
  {
   "cell_type": "markdown",
   "id": "37",
   "metadata": {},
   "source": [
    "## Detection efficiency for point sources vs. mag, by filter.\n",
    "\n",
    "This calculation requires a source injection campaign for full fidelity, but the limiting magnitudes are a useful proxy."
   ]
  },
  {
   "cell_type": "code",
   "execution_count": null,
   "id": "38",
   "metadata": {},
   "outputs": [],
   "source": [
    "if \"magLim\" in initialPviSummaryMetrics:\n",
    "    plot_metric_vs_time_by_filter(initialPviSummaryMetrics, \"magLim\", unit=\"mag\")\n",
    "else:\n",
    "    # missing for dates before DM-52885\n",
    "    print(f\"No magLim values stored for {date}.\")"
   ]
  }
 ],
 "metadata": {
  "kernelspec": {
   "display_name": "LSST",
   "language": "python",
   "name": "lsst"
  },
  "language_info": {
   "codemirror_mode": {
    "name": "ipython",
    "version": 3
   },
   "file_extension": ".py",
   "mimetype": "text/x-python",
   "name": "python",
   "nbconvert_exporter": "python",
   "pygments_lexer": "ipython3",
   "version": "3.12.11"
  }
 },
 "nbformat": 4,
 "nbformat_minor": 5
}
