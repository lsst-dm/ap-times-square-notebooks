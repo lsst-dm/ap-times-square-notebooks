{
 "cells": [
  {
   "cell_type": "markdown",
   "id": "0",
   "metadata": {},
   "source": [
    "# Alert Production Data Quality Report for {{params.instrument}} on {{ params.date }}"
   ]
  },
  {
   "cell_type": "code",
   "execution_count": null,
   "id": "1",
   "metadata": {},
   "outputs": [],
   "source": [
    "# Parameters.  Set defaults here.\n",
    "\n",
    "date = \"2024-09-05\"\n",
    "instrument = \"LATISS\""
   ]
  },
  {
   "cell_type": "code",
   "execution_count": null,
   "id": "2",
   "metadata": {},
   "outputs": [],
   "source": [
    "day_obs = date.replace(\"-\", \"\")  # day_obs is a string in the EFD\n",
    "day_obs"
   ]
  },
  {
   "cell_type": "code",
   "execution_count": null,
   "id": "3",
   "metadata": {},
   "outputs": [],
   "source": [
    "match instrument:\n",
    "    case \"LATISS\":\n",
    "        sal_index = 2\n",
    "        n_detector = 1\n",
    "    case \"LSSTComCamSim\":\n",
    "        sal_index = 3\n",
    "        n_detector = 9\n",
    "    case _:\n",
    "        logger.error(f\"Unknown instrument {instrument}\")"
   ]
  },
  {
   "cell_type": "code",
   "execution_count": null,
   "id": "4",
   "metadata": {},
   "outputs": [],
   "source": [
    "# https://rtn-045.lsst.io/#colorblind-friendly-plots\n",
    "plot_filter_colors = {\n",
    "    \"u\": \"#56b4e9\",\n",
    "    \"g\": \"#008060\",\n",
    "    \"r\": \"#ff4000\",\n",
    "    \"i\": \"#850000\",\n",
    "    \"z\": \"#6600cc\",\n",
    "    \"y\": \"#000000\",\n",
    "}"
   ]
  },
  {
   "cell_type": "markdown",
   "id": "5",
   "metadata": {},
   "source": [
    "1.3.14 Level 1 Data Quality Report Definition\n",
    "\n",
    "ID: DMS-REQ-0097 (Priority: 1a)\n",
    "\n",
    "Specification: The DMS shall produce a Level 1 Data Quality Report that contains indicators\n",
    "of data quality that result from running the DMS pipelines, including at least: Photometric\n",
    "zero point vs. time for each utilized filter; Sky brightness vs. time for each utilized filter; seeing\n",
    "vs. time for each utilized filter; PSF parameters vs. time for each utilized filter; detection\n",
    "efficiency for point sources vs. mag for each utilized filter.\n",
    "\n",
    "Discussion: The seeing report is intended as a broad-brush measure of image quality. The\n",
    "PSF parameters provide more detail, as they include asymmetries and field location\n",
    "dependence"
   ]
  },
  {
   "cell_type": "code",
   "execution_count": null,
   "id": "6",
   "metadata": {},
   "outputs": [],
   "source": [
    "import numpy as np\n",
    "import matplotlib.pyplot as plt\n",
    "from lsst_efd_client import EfdClient"
   ]
  },
  {
   "cell_type": "markdown",
   "id": "7",
   "metadata": {},
   "source": [
    "As of 9 Oct 24, `lsst.prompt` is only available in usdfdev while we await authentication. "
   ]
  },
  {
   "cell_type": "code",
   "execution_count": null,
   "id": "8",
   "metadata": {},
   "outputs": [],
   "source": [
    "client = EfdClient(\"usdfdev_efd\", db_name=\"lsst.prompt\")"
   ]
  },
  {
   "cell_type": "code",
   "execution_count": null,
   "id": "9",
   "metadata": {},
   "outputs": [],
   "source": [
    "# waiting on input in #sasquatch_support\n",
    "# client = EfdClient(\"usdf_efd\", db_name=\"lsst.prompt\")"
   ]
  },
  {
   "cell_type": "code",
   "execution_count": null,
   "id": "10",
   "metadata": {},
   "outputs": [],
   "source": [
    "await client.get_topics()"
   ]
  },
  {
   "cell_type": "code",
   "execution_count": null,
   "id": "11",
   "metadata": {},
   "outputs": [],
   "source": [
    "await client.get_fields(\"lsst.prompt.prod.initialPviSummaryMetrics\")"
   ]
  },
  {
   "cell_type": "code",
   "execution_count": null,
   "id": "12",
   "metadata": {},
   "outputs": [],
   "source": [
    "# Testing to find good dates\n",
    "# query = f\"\"\"SELECT * FROM \"lsst.prompt.prod.initialPviSummaryMetrics\" WHERE \"day_obs\" = '{day_obs}' AND \"instrument\" = '{instrument}' \"\"\"\n",
    "# print(query)\n",
    "# initialPviSummaryMetrics = await client.influx_client.query(query)\n",
    "# initialPviSummaryMetrics"
   ]
  },
  {
   "cell_type": "code",
   "execution_count": null,
   "id": "13",
   "metadata": {},
   "outputs": [],
   "source": [
    "query = f\"\"\"SELECT * FROM \"lsst.prompt.prod.initialPviSummaryMetrics\" WHERE \"instrument\" = '{instrument}' \"\"\"\n",
    "print(query)\n",
    "initialPviSummaryMetrics = await client.influx_client.query(query)\n",
    "initialPviSummaryMetrics"
   ]
  },
  {
   "cell_type": "code",
   "execution_count": null,
   "id": "14",
   "metadata": {},
   "outputs": [],
   "source": [
    "initialPviSummaryMetrics.columns"
   ]
  },
  {
   "cell_type": "code",
   "execution_count": null,
   "id": "15",
   "metadata": {},
   "outputs": [],
   "source": [
    "def plot_metric_vs_time_by_filter(df, column):\n",
    "    plt.figure()\n",
    "    for filt in plot_filter_colors.keys():\n",
    "        wf = df[\"band\"] == filt\n",
    "\n",
    "        if np.sum(wf):\n",
    "            plt.plot(\n",
    "                df.loc[wf].index,\n",
    "                df.loc[wf, column],\n",
    "                \".\",\n",
    "                color=plot_filter_colors[filt],\n",
    "                label=filt,\n",
    "            )\n",
    "\n",
    "    plt.legend()\n",
    "    plt.xlabel(\"Time\")\n",
    "    plt.ylabel(column)"
   ]
  },
  {
   "cell_type": "code",
   "execution_count": null,
   "id": "16",
   "metadata": {},
   "outputs": [],
   "source": [
    "cols_to_plot = [\n",
    "    \"zeroPoint\",\n",
    "    \"skyBg\",\n",
    "    \"skyNoise\",\n",
    "    \"psfSigma\",\n",
    "    \"psfIxx\",\n",
    "    \"psfIxy\",\n",
    "    \"psfIyy\",\n",
    "    \"psfArea\",\n",
    "]"
   ]
  },
  {
   "cell_type": "code",
   "execution_count": null,
   "id": "17",
   "metadata": {},
   "outputs": [],
   "source": [
    "for col in cols_to_plot:\n",
    "    plot_metric_vs_time_by_filter(initialPviSummaryMetrics, col)"
   ]
  },
  {
   "cell_type": "code",
   "execution_count": null,
   "id": "18",
   "metadata": {},
   "outputs": [],
   "source": [
    "plot_metric_vs_time_by_filter(initialPviSummaryMetrics, \"zeroPoint\")"
   ]
  },
  {
   "cell_type": "code",
   "execution_count": null,
   "id": "19",
   "metadata": {},
   "outputs": [],
   "source": [
    "plot_metric_vs_time_by_filter(initialPviSummaryMetrics, \"skyBg\")"
   ]
  },
  {
   "cell_type": "code",
   "execution_count": null,
   "id": "20",
   "metadata": {},
   "outputs": [],
   "source": [
    "plot_metric_vs_time_by_filter(initialPviSummaryMetrics, \"skyNoise\")"
   ]
  },
  {
   "cell_type": "code",
   "execution_count": null,
   "id": "21",
   "metadata": {},
   "outputs": [],
   "source": [
    "plot_metric_vs_time_by_filter(initialPviSummaryMetrics, \"psfSigma\")"
   ]
  },
  {
   "cell_type": "code",
   "execution_count": null,
   "id": "22",
   "metadata": {},
   "outputs": [],
   "source": []
  },
  {
   "cell_type": "code",
   "execution_count": null,
   "id": "23",
   "metadata": {},
   "outputs": [],
   "source": [
    "await client.get_fields(\"lsst.prompt.numDiaSourcesAll\")"
   ]
  },
  {
   "cell_type": "markdown",
   "id": "24",
   "metadata": {},
   "source": [
    "https://docs.influxdata.com/influxdb/v1/query_language/explore-data/#the-where-clause\n",
    "\n",
    "> Single quote string field values in the WHERE clause. Queries with unquoted string field values or double quoted string field values will not return any data and, in most cases, will not return an error."
   ]
  },
  {
   "cell_type": "code",
   "execution_count": null,
   "id": "25",
   "metadata": {},
   "outputs": [],
   "source": [
    "query = f\"\"\"SELECT * FROM \"lsst.prompt.numDiaSourcesAll\" WHERE \"day_obs\" = '{day_obs}' AND \"instrument\" = '{instrument}' \"\"\"\n",
    "print(query)\n",
    "numDiaSourcesAll = await client.influx_client.query(query)\n",
    "numDiaSourcesAll"
   ]
  },
  {
   "cell_type": "code",
   "execution_count": null,
   "id": "26",
   "metadata": {},
   "outputs": [],
   "source": [
    "numDiaSourcesAll.columns"
   ]
  },
  {
   "cell_type": "code",
   "execution_count": null,
   "id": "27",
   "metadata": {},
   "outputs": [],
   "source": [
    "numDiaSourcesAll.iloc[0]"
   ]
  },
  {
   "cell_type": "code",
   "execution_count": null,
   "id": "28",
   "metadata": {},
   "outputs": [],
   "source": [
    "# help(client.select_time_series)"
   ]
  },
  {
   "cell_type": "code",
   "execution_count": null,
   "id": "29",
   "metadata": {},
   "outputs": [],
   "source": [
    "for filt in plot_filter_colors.keys():\n",
    "    wf = numDiaSourcesAll[\"band\"] == filt\n",
    "\n",
    "    if np.sum(wf):\n",
    "        plt.plot(\n",
    "            numDiaSourcesAll.loc[wf].index,\n",
    "            numDiaSourcesAll.loc[wf, \"numDiaSourcesAll\"],\n",
    "            \".\",\n",
    "            color=plot_filter_colors[filt],\n",
    "            label=filt,\n",
    "        )\n",
    "\n",
    "plt.legend()\n",
    "plt.xlabel(\"Time\")\n",
    "plt.ylabel(\"Number of DiaSources per detector\")"
   ]
  }
 ],
 "metadata": {
  "kernelspec": {
   "display_name": "LSST",
   "language": "python",
   "name": "lsst"
  },
  "language_info": {
   "codemirror_mode": {
    "name": "ipython",
    "version": 3
   },
   "file_extension": ".py",
   "mimetype": "text/x-python",
   "name": "python",
   "nbconvert_exporter": "python",
   "pygments_lexer": "ipython3",
   "version": "3.11.9"
  }
 },
 "nbformat": 4,
 "nbformat_minor": 5
}
